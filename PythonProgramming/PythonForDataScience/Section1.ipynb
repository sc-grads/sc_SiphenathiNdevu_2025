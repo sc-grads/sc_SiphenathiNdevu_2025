{
 "cells": [
  {
   "cell_type": "code",
   "execution_count": 1,
   "id": "8d018d43-8770-438e-8309-aa116d51401b",
   "metadata": {},
   "outputs": [
    {
     "data": {
      "text/plain": [
       "1"
      ]
     },
     "execution_count": 1,
     "metadata": {},
     "output_type": "execute_result"
    }
   ],
   "source": [
    "1"
   ]
  },
  {
   "cell_type": "code",
   "execution_count": 2,
   "id": "6dea32bf-90fc-467b-8837-76f519ff0df2",
   "metadata": {},
   "outputs": [
    {
     "data": {
      "text/plain": [
       "1.0"
      ]
     },
     "execution_count": 2,
     "metadata": {},
     "output_type": "execute_result"
    }
   ],
   "source": [
    "1.0"
   ]
  },
  {
   "cell_type": "code",
   "execution_count": 3,
   "id": "fdf6ff3c-3bc5-49b3-b473-aeda0766d7a2",
   "metadata": {},
   "outputs": [
    {
     "data": {
      "text/plain": [
       "2"
      ]
     },
     "execution_count": 3,
     "metadata": {},
     "output_type": "execute_result"
    }
   ],
   "source": [
    "1+1"
   ]
  },
  {
   "cell_type": "code",
   "execution_count": 4,
   "id": "50bb85fc-9f68-4099-bde3-57d5d10548bf",
   "metadata": {},
   "outputs": [
    {
     "data": {
      "text/plain": [
       "3"
      ]
     },
     "execution_count": 4,
     "metadata": {},
     "output_type": "execute_result"
    }
   ],
   "source": [
    "1*3"
   ]
  },
  {
   "cell_type": "code",
   "execution_count": 5,
   "id": "c83d9c18-ea4c-4aee-bdab-ba4b5ed1eb5c",
   "metadata": {},
   "outputs": [
    {
     "data": {
      "text/plain": [
       "0.5"
      ]
     },
     "execution_count": 5,
     "metadata": {},
     "output_type": "execute_result"
    }
   ],
   "source": [
    "1/2.0"
   ]
  },
  {
   "cell_type": "code",
   "execution_count": 6,
   "id": "afb3de1f-0670-46e1-bf92-084cea72b809",
   "metadata": {},
   "outputs": [
    {
     "data": {
      "text/plain": [
       "16"
      ]
     },
     "execution_count": 6,
     "metadata": {},
     "output_type": "execute_result"
    }
   ],
   "source": [
    "2 ** 4"
   ]
  },
  {
   "cell_type": "code",
   "execution_count": 7,
   "id": "f94a01aa-0f8f-4ed4-b933-6606e1054b9b",
   "metadata": {},
   "outputs": [
    {
     "data": {
      "text/plain": [
       "22"
      ]
     },
     "execution_count": 7,
     "metadata": {},
     "output_type": "execute_result"
    }
   ],
   "source": [
    "2 + 3 * 5 + 5"
   ]
  },
  {
   "cell_type": "code",
   "execution_count": 8,
   "id": "2bcc1972-2877-463a-a869-2e8bf3e429c6",
   "metadata": {},
   "outputs": [],
   "source": [
    "num = 12\n",
    "name = 'Sam'"
   ]
  },
  {
   "cell_type": "code",
   "execution_count": 9,
   "id": "e5610400-389f-45eb-94b7-8e428073d984",
   "metadata": {},
   "outputs": [
    {
     "name": "stdout",
     "output_type": "stream",
     "text": [
      "My number is: 12, and my name is: Sam\n"
     ]
    }
   ],
   "source": [
    "print('My number is: {one}, and my name is: {two}'.format(one=num,two=name))"
   ]
  },
  {
   "cell_type": "code",
   "execution_count": 10,
   "id": "a71907db-ab3c-4cb1-ae6e-29d80674de5f",
   "metadata": {},
   "outputs": [],
   "source": [
    "s = 'Siphenathi'"
   ]
  },
  {
   "cell_type": "code",
   "execution_count": 11,
   "id": "0254f09c-e784-49d9-b509-12399e7db2dc",
   "metadata": {},
   "outputs": [
    {
     "data": {
      "text/plain": [
       "'henathi'"
      ]
     },
     "execution_count": 11,
     "metadata": {},
     "output_type": "execute_result"
    }
   ],
   "source": [
    "s[3:]"
   ]
  },
  {
   "cell_type": "code",
   "execution_count": 12,
   "id": "97a63e1b-3443-4b1a-9da4-94147f51c5aa",
   "metadata": {},
   "outputs": [],
   "source": [
    "d = {'key1':'value','key2':123}"
   ]
  },
  {
   "cell_type": "code",
   "execution_count": 13,
   "id": "64466a77-631e-4cc2-aa7b-5f3a77c8efce",
   "metadata": {},
   "outputs": [
    {
     "data": {
      "text/plain": [
       "'value'"
      ]
     },
     "execution_count": 13,
     "metadata": {},
     "output_type": "execute_result"
    }
   ],
   "source": [
    "d ['key1']"
   ]
  },
  {
   "cell_type": "code",
   "execution_count": 14,
   "id": "7125e142-c9f9-46e5-b55e-b6b6d638c2dd",
   "metadata": {},
   "outputs": [
    {
     "data": {
      "text/plain": [
       "False"
      ]
     },
     "execution_count": 14,
     "metadata": {},
     "output_type": "execute_result"
    }
   ],
   "source": [
    "1<1"
   ]
  },
  {
   "cell_type": "code",
   "execution_count": 15,
   "id": "dd987059-0a3c-4f7c-8afa-1c4a48dfc16b",
   "metadata": {},
   "outputs": [
    {
     "data": {
      "text/plain": [
       "False"
      ]
     },
     "execution_count": 15,
     "metadata": {},
     "output_type": "execute_result"
    }
   ],
   "source": [
    "1!=3 and 3==6"
   ]
  },
  {
   "cell_type": "code",
   "execution_count": 16,
   "id": "edc2453c-18c5-4fec-8fe3-95f4960d9caa",
   "metadata": {},
   "outputs": [
    {
     "data": {
      "text/plain": [
       "True"
      ]
     },
     "execution_count": 16,
     "metadata": {},
     "output_type": "execute_result"
    }
   ],
   "source": [
    "1!=3 or 3==6"
   ]
  },
  {
   "cell_type": "code",
   "execution_count": 17,
   "id": "af16f107-f0dc-4dc5-b438-ceec2df898cf",
   "metadata": {},
   "outputs": [
    {
     "name": "stdout",
     "output_type": "stream",
     "text": [
      "yep\n"
     ]
    }
   ],
   "source": [
    "if 1<2:\n",
    "    print('yep')"
   ]
  },
  {
   "cell_type": "code",
   "execution_count": 18,
   "id": "88206d40-5e1e-42fd-8f78-65963c2620d1",
   "metadata": {},
   "outputs": [
    {
     "name": "stdout",
     "output_type": "stream",
     "text": [
      "second\n"
     ]
    }
   ],
   "source": [
    "if 1 == 2:\n",
    "    print('first')\n",
    "elif 4==4:\n",
    "    print('second')\n",
    "elif 3 == 3:\n",
    "    print('middle')\n",
    "else:\n",
    "    print('Last')"
   ]
  },
  {
   "cell_type": "code",
   "execution_count": 19,
   "id": "2500b3be-6a78-4d82-a69b-ae58b2660cd0",
   "metadata": {},
   "outputs": [],
   "source": [
    "seq = [1,2,3,4,5]"
   ]
  },
  {
   "cell_type": "code",
   "execution_count": 20,
   "id": "61ca4d0b-4a2b-4449-8db8-398562ca1be7",
   "metadata": {},
   "outputs": [
    {
     "name": "stdout",
     "output_type": "stream",
     "text": [
      "1\n",
      "2\n",
      "3\n",
      "4\n",
      "5\n"
     ]
    }
   ],
   "source": [
    "for item in seq:\n",
    "    print(item)"
   ]
  },
  {
   "cell_type": "code",
   "execution_count": 21,
   "id": "a218a562-5986-4819-a6a9-84b8713a2e85",
   "metadata": {},
   "outputs": [
    {
     "name": "stdout",
     "output_type": "stream",
     "text": [
      "i is: 1\n",
      "i is: 2\n",
      "i is: 3\n",
      "i is: 4\n"
     ]
    }
   ],
   "source": [
    "i = 1\n",
    "while i < 5:\n",
    "    print('i is: {}'.format(i))\n",
    "    i = i+1"
   ]
  },
  {
   "cell_type": "code",
   "execution_count": 33,
   "id": "ebefdd2b-9c53-4d37-ad25-667ea0ce1848",
   "metadata": {},
   "outputs": [
    {
     "name": "stdout",
     "output_type": "stream",
     "text": [
      "0\n",
      "1\n",
      "2\n",
      "3\n",
      "4\n"
     ]
    }
   ],
   "source": [
    "for x in range(0,5):\n",
    "    print(x)"
   ]
  },
  {
   "cell_type": "code",
   "execution_count": 31,
   "id": "196c1330-d66a-4e49-977f-26d51f89e543",
   "metadata": {},
   "outputs": [],
   "source": [
    "del range\n"
   ]
  },
  {
   "cell_type": "code",
   "execution_count": 32,
   "id": "e9d7c193-3fc3-474d-aea9-6999ff1f28a5",
   "metadata": {},
   "outputs": [
    {
     "data": {
      "text/plain": [
       "range(0, 5)"
      ]
     },
     "execution_count": 32,
     "metadata": {},
     "output_type": "execute_result"
    }
   ],
   "source": [
    "range(0, 5)"
   ]
  },
  {
   "cell_type": "code",
   "execution_count": 34,
   "id": "6bdd974f-d432-43b1-a5d6-f876db0f863e",
   "metadata": {},
   "outputs": [
    {
     "data": {
      "text/plain": [
       "[0, 1, 2, 3, 4, 5, 6, 7, 8, 9]"
      ]
     },
     "execution_count": 34,
     "metadata": {},
     "output_type": "execute_result"
    }
   ],
   "source": [
    "list(range(0, 10))"
   ]
  },
  {
   "cell_type": "code",
   "execution_count": 35,
   "id": "bc2163c5-dd3b-4e0b-ba3f-4626784c22d7",
   "metadata": {},
   "outputs": [],
   "source": [
    "x = [1,2,3,4]"
   ]
  },
  {
   "cell_type": "code",
   "execution_count": 36,
   "id": "04422965-54a6-4585-8b51-c35805c882df",
   "metadata": {},
   "outputs": [],
   "source": [
    "out = []\n",
    "\n",
    "for num in x:\n",
    "    out.append(num**2)"
   ]
  },
  {
   "cell_type": "code",
   "execution_count": 37,
   "id": "38a0d624-1e85-41b0-9c07-d487263b6cdb",
   "metadata": {},
   "outputs": [
    {
     "name": "stdout",
     "output_type": "stream",
     "text": [
      "[1, 4, 9, 16]\n"
     ]
    }
   ],
   "source": [
    "print(out)"
   ]
  },
  {
   "cell_type": "code",
   "execution_count": 38,
   "id": "d6abbd71-48cd-4de2-b456-b152541d5a2c",
   "metadata": {},
   "outputs": [
    {
     "data": {
      "text/plain": [
       "[1, 4, 9, 16]"
      ]
     },
     "execution_count": 38,
     "metadata": {},
     "output_type": "execute_result"
    }
   ],
   "source": [
    "[num**2 for num in x]"
   ]
  },
  {
   "cell_type": "code",
   "execution_count": 39,
   "id": "0653d88a-a270-446d-b1c9-745179622d1b",
   "metadata": {},
   "outputs": [],
   "source": [
    "out = [num**2 for num in x]"
   ]
  },
  {
   "cell_type": "code",
   "execution_count": 40,
   "id": "6dac38aa-5606-4cd4-820c-0f29bb84ae74",
   "metadata": {},
   "outputs": [
    {
     "data": {
      "text/plain": [
       "[1, 4, 9, 16]"
      ]
     },
     "execution_count": 40,
     "metadata": {},
     "output_type": "execute_result"
    }
   ],
   "source": [
    "out"
   ]
  },
  {
   "cell_type": "code",
   "execution_count": 42,
   "id": "65ab8c7d-4376-4ea3-9dbe-9bf968a3485d",
   "metadata": {},
   "outputs": [],
   "source": [
    "def my_func(name= 'Defailt Name'):\n",
    "    print('Hello '+name)"
   ]
  },
  {
   "cell_type": "code",
   "execution_count": 43,
   "id": "3503293a-b44c-4bf1-8fd3-7232c1329298",
   "metadata": {},
   "outputs": [
    {
     "name": "stdout",
     "output_type": "stream",
     "text": [
      "Hello Defailt Name\n"
     ]
    }
   ],
   "source": [
    "my_func()"
   ]
  },
  {
   "cell_type": "code",
   "execution_count": 50,
   "id": "ffa002c7-a833-4920-b1f4-c4966143fc30",
   "metadata": {},
   "outputs": [],
   "source": [
    "def square(num) :\n",
    "    \"\"\"\n",
    "    This is a docsstring\n",
    "    \"\"\"\n",
    "    return num**2"
   ]
  },
  {
   "cell_type": "code",
   "execution_count": 51,
   "id": "83194a1b-f55d-4020-a511-06889f23c2cf",
   "metadata": {},
   "outputs": [],
   "source": [
    "output = square(2)"
   ]
  },
  {
   "cell_type": "code",
   "execution_count": 52,
   "id": "043c15dd-2664-4a06-a461-34a6a18d21c0",
   "metadata": {},
   "outputs": [
    {
     "data": {
      "text/plain": [
       "4"
      ]
     },
     "execution_count": 52,
     "metadata": {},
     "output_type": "execute_result"
    }
   ],
   "source": [
    "output"
   ]
  },
  {
   "cell_type": "code",
   "execution_count": 54,
   "id": "af4e80d4-70bb-4433-82db-4c8178143855",
   "metadata": {},
   "outputs": [
    {
     "data": {
      "text/plain": [
       "<function __main__.square(num)>"
      ]
     },
     "execution_count": 54,
     "metadata": {},
     "output_type": "execute_result"
    }
   ],
   "source": [
    "square"
   ]
  },
  {
   "cell_type": "code",
   "execution_count": 55,
   "id": "f338e68e-d796-4954-8eac-a99b311a1f5d",
   "metadata": {},
   "outputs": [],
   "source": [
    "def times2(var):\n",
    "    return var*2"
   ]
  },
  {
   "cell_type": "code",
   "execution_count": 56,
   "id": "48d33274-89cd-4eae-95db-a4eb04ba57c1",
   "metadata": {},
   "outputs": [
    {
     "data": {
      "text/plain": [
       "10"
      ]
     },
     "execution_count": 56,
     "metadata": {},
     "output_type": "execute_result"
    }
   ],
   "source": [
    "times2(5)"
   ]
  },
  {
   "cell_type": "code",
   "execution_count": 57,
   "id": "d9a8a837-d96c-46bd-b400-892855f155ae",
   "metadata": {},
   "outputs": [],
   "source": [
    "# map()"
   ]
  },
  {
   "cell_type": "code",
   "execution_count": 64,
   "id": "59afbcae-4e56-44bc-84bf-134274fff20b",
   "metadata": {},
   "outputs": [],
   "source": [
    "seq = [1,2,3,4,5]"
   ]
  },
  {
   "cell_type": "code",
   "execution_count": 61,
   "id": "4094b8d0-3af8-4fb6-8887-8734681ab5d0",
   "metadata": {},
   "outputs": [
    {
     "data": {
      "text/plain": [
       "[3, 6, 9, 12, 15]"
      ]
     },
     "execution_count": 61,
     "metadata": {},
     "output_type": "execute_result"
    }
   ],
   "source": [
    "list(map(lambda num: num*3,seq))"
   ]
  },
  {
   "cell_type": "code",
   "execution_count": 66,
   "id": "a73ae56a-d063-4e22-b5ff-ee49d7d1bd0d",
   "metadata": {},
   "outputs": [
    {
     "data": {
      "text/plain": [
       "[2, 4]"
      ]
     },
     "execution_count": 66,
     "metadata": {},
     "output_type": "execute_result"
    }
   ],
   "source": [
    "list(filter(lambda num: num%2 == 0,seq))"
   ]
  },
  {
   "cell_type": "code",
   "execution_count": 67,
   "id": "f4e19bcd-574d-4638-9074-96509cacbdb1",
   "metadata": {},
   "outputs": [],
   "source": [
    "s = 'Hello my name is Sam'"
   ]
  },
  {
   "cell_type": "code",
   "execution_count": 69,
   "id": "9aff97d2-4cf3-4416-9a39-4b69edfbdc6a",
   "metadata": {},
   "outputs": [
    {
     "data": {
      "text/plain": [
       "'hello my name is sam'"
      ]
     },
     "execution_count": 69,
     "metadata": {},
     "output_type": "execute_result"
    }
   ],
   "source": [
    "s.lower()"
   ]
  },
  {
   "cell_type": "code",
   "execution_count": 70,
   "id": "de4ddaaa-7e96-4abf-9a0e-49c39adbd458",
   "metadata": {},
   "outputs": [
    {
     "data": {
      "text/plain": [
       "['Hello', 'my', 'name', 'is', 'Sam']"
      ]
     },
     "execution_count": 70,
     "metadata": {},
     "output_type": "execute_result"
    }
   ],
   "source": [
    "s.split()"
   ]
  },
  {
   "cell_type": "code",
   "execution_count": 71,
   "id": "48f23756-62d6-4a6d-85ef-ef3fc8ad6aec",
   "metadata": {},
   "outputs": [],
   "source": [
    "d = {'K1': 1,'K2':2}"
   ]
  },
  {
   "cell_type": "code",
   "execution_count": 72,
   "id": "7646f113-e6b0-4bef-a0ee-cc331628937b",
   "metadata": {},
   "outputs": [
    {
     "data": {
      "text/plain": [
       "{'K1': 1, 'K2': 2}"
      ]
     },
     "execution_count": 72,
     "metadata": {},
     "output_type": "execute_result"
    }
   ],
   "source": [
    "d"
   ]
  },
  {
   "cell_type": "code",
   "execution_count": 73,
   "id": "b290a9ab-b7de-4050-bd23-8aeaafc9aaa4",
   "metadata": {},
   "outputs": [
    {
     "data": {
      "text/plain": [
       "dict_keys(['K1', 'K2'])"
      ]
     },
     "execution_count": 73,
     "metadata": {},
     "output_type": "execute_result"
    }
   ],
   "source": [
    "d.keys()\n"
   ]
  },
  {
   "cell_type": "code",
   "execution_count": 74,
   "id": "08826f70-1300-4e39-826f-5d83d1c7abf4",
   "metadata": {},
   "outputs": [
    {
     "data": {
      "text/plain": [
       "dict_items([('K1', 1), ('K2', 2)])"
      ]
     },
     "execution_count": 74,
     "metadata": {},
     "output_type": "execute_result"
    }
   ],
   "source": [
    "d.items()"
   ]
  },
  {
   "cell_type": "code",
   "execution_count": 75,
   "id": "9ac8351d-c562-4237-a5da-0adb3334f223",
   "metadata": {},
   "outputs": [
    {
     "data": {
      "text/plain": [
       "dict_values([1, 2])"
      ]
     },
     "execution_count": 75,
     "metadata": {},
     "output_type": "execute_result"
    }
   ],
   "source": [
    "d.values()"
   ]
  },
  {
   "cell_type": "code",
   "execution_count": null,
   "id": "970d1039-0be0-4da3-ac43-510fc438ef7d",
   "metadata": {},
   "outputs": [],
   "source": []
  }
 ],
 "metadata": {
  "kernelspec": {
   "display_name": "Python 3 (ipykernel)",
   "language": "python",
   "name": "python3"
  },
  "language_info": {
   "codemirror_mode": {
    "name": "ipython",
    "version": 3
   },
   "file_extension": ".py",
   "mimetype": "text/x-python",
   "name": "python",
   "nbconvert_exporter": "python",
   "pygments_lexer": "ipython3",
   "version": "3.13.5"
  }
 },
 "nbformat": 4,
 "nbformat_minor": 5
}
